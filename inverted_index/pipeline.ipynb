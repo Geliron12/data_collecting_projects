{
 "cells": [
  {
   "cell_type": "code",
   "execution_count": 5,
   "metadata": {},
   "outputs": [],
   "source": [
    "import sys\n",
    "import pickle\n",
    "import pandas as pd\n",
    "\n",
    "from coding import EliasCoding, NumberRepr\n",
    "from retrieval import InformationRetrieval\n",
    "from indexing import InvertedIndex\n",
    "\n",
    "from preprocessing import Tokenization\n",
    "from utils import get_object_size, load_data"
   ]
  },
  {
   "cell_type": "code",
   "execution_count": 10,
   "metadata": {},
   "outputs": [],
   "source": [
    "# from bitstring import BitArray, BitStream\n",
    "# from bitfields import Bits"
   ]
  },
  {
   "cell_type": "markdown",
   "metadata": {},
   "source": [
    "### Кодирование Элиаса"
   ]
  },
  {
   "cell_type": "code",
   "execution_count": 2,
   "metadata": {},
   "outputs": [
    {
     "name": "stdout",
     "output_type": "stream",
     "text": [
      "Бинарное представление числа 1: 1\n",
      "Гамма кодирование Элиаса числа 1: 1\n",
      "Гамма декодирование Элиаса числа 1: 1\n",
      "Гамма кодирование Элиаса числа 1: 1\n",
      "Дельта декодирование Элиаса числа 1: 1 \n",
      "\n",
      "Бинарное представление числа 2: 10\n",
      "Гамма кодирование Элиаса числа 2: 010\n",
      "Гамма декодирование Элиаса числа 2: 2\n",
      "Гамма кодирование Элиаса числа 2: 0100\n",
      "Дельта декодирование Элиаса числа 2: 2 \n",
      "\n",
      "Бинарное представление числа 3: 11\n",
      "Гамма кодирование Элиаса числа 3: 011\n",
      "Гамма декодирование Элиаса числа 3: 3\n",
      "Гамма кодирование Элиаса числа 3: 0101\n",
      "Дельта декодирование Элиаса числа 3: 3 \n",
      "\n"
     ]
    }
   ],
   "source": [
    "#Проверка кодирования\n",
    "for i in range(1, 4):\n",
    "    num_repr = NumberRepr.Binary(i)\n",
    "    elias_gamma_encode = EliasCoding.elias_gamma_encode(i)\n",
    "    elias_gamma_decode = EliasCoding.elias_gamma_decode(elias_gamma_encode)\n",
    "    elias_delta_encode = EliasCoding.elias_delta_encode(i)\n",
    "    elias_delta_decode = EliasCoding.elias_delta_decode(elias_delta_encode)\n",
    "\n",
    "    print(f\"Бинарное представление числа {i}:\", num_repr)\n",
    "    print(f\"Гамма кодирование Элиаса числа {i}:\", elias_gamma_encode)\n",
    "    print(f\"Гамма декодирование Элиаса числа {i}:\", elias_gamma_decode)\n",
    "    print(f\"Гамма кодирование Элиаса числа {i}:\", elias_delta_encode)\n",
    "    print(f\"Дельта декодирование Элиаса числа {i}:\", elias_delta_decode, \"\\n\")"
   ]
  },
  {
   "cell_type": "markdown",
   "metadata": {},
   "source": [
    "### Подготовка данных"
   ]
  },
  {
   "cell_type": "code",
   "execution_count": 3,
   "metadata": {},
   "outputs": [
    {
     "name": "stdout",
     "output_type": "stream",
     "text": [
      "Количество записей: 40069\n"
     ]
    }
   ],
   "source": [
    "#Путь к файлу с данными\n",
    "data_path = \"/Users/petrovich/Desktop/my_code/data_collecting_projects/inverted_index/data/МГУ_2023-12-31.csv\"\n",
    "#Загрузка данных\n",
    "docs = load_data(data_path)\n",
    "print(\"Количество записей:\", len(docs))"
   ]
  },
  {
   "cell_type": "code",
   "execution_count": 4,
   "metadata": {},
   "outputs": [],
   "source": [
    "#Токенизация документов\n",
    "tokenized_docs = Tokenization.tokenize_doc_corpus(docs)"
   ]
  },
  {
   "cell_type": "code",
   "execution_count": 25,
   "metadata": {},
   "outputs": [],
   "source": [
    "# def save_file(file, file_name):\n",
    "#     with open(f'data/{file_name}.pkl', 'wb') as f:\n",
    "#         pickle.dump(file, f)"
   ]
  },
  {
   "cell_type": "markdown",
   "metadata": {},
   "source": [
    "### Построение инвертированного индекса"
   ]
  },
  {
   "cell_type": "code",
   "execution_count": 15,
   "metadata": {},
   "outputs": [],
   "source": [
    "inverted_index = InvertedIndex.create_inverted_index(tokenized_docs, data_path)\n",
    "#print(round(get_object_size(inverted_index)), \"КБ – размер инвертированного индекса до сжатия\")"
   ]
  },
  {
   "cell_type": "code",
   "execution_count": 22,
   "metadata": {},
   "outputs": [
    {
     "name": "stdout",
     "output_type": "stream",
     "text": [
      "Количество ключей инвертированного индекса: 196138\n"
     ]
    }
   ],
   "source": [
    "print(\"Количество ключей инвертированного индекса:\", len(inverted_index.keys()))"
   ]
  },
  {
   "cell_type": "markdown",
   "metadata": {},
   "source": [
    "### Оптимизация инвертированного индекса"
   ]
  },
  {
   "cell_type": "code",
   "execution_count": 23,
   "metadata": {},
   "outputs": [],
   "source": [
    "elias_gamma_inverted_index = InvertedIndex.compress_inverted_index(inverted_index.copy(), mode=\"gamma\")\n",
    "#print(round(get_object_size(elias_gamma_inverted_index)), \"КБ – размер инвертированного индекса после Гамма кодирования Элиаса\")"
   ]
  },
  {
   "cell_type": "code",
   "execution_count": 24,
   "metadata": {},
   "outputs": [],
   "source": [
    "elias_delta_inverted_index = InvertedIndex.compress_inverted_index(inverted_index.copy(), mode=\"delta\")\n",
    "#print(round(get_object_size(elias_gamma_inverted_index)), \"КБ – размер инвертированного индекса после Дельта кодирования Элиаса\")"
   ]
  },
  {
   "cell_type": "markdown",
   "metadata": {},
   "source": [
    "### Информационный поиск"
   ]
  },
  {
   "cell_type": "code",
   "execution_count": 26,
   "metadata": {},
   "outputs": [],
   "source": [
    "query = \"Ректор МГУ\""
   ]
  },
  {
   "cell_type": "code",
   "execution_count": 31,
   "metadata": {},
   "outputs": [],
   "source": [
    "relevant_docs = InformationRetrieval.get_relevant_doc_indices(query, inverted_index)"
   ]
  },
  {
   "cell_type": "code",
   "execution_count": 28,
   "metadata": {},
   "outputs": [],
   "source": [
    "gamma_relevant_docs = InformationRetrieval.get_relevant_doc_indices(query, elias_gamma_inverted_index)"
   ]
  },
  {
   "cell_type": "code",
   "execution_count": 29,
   "metadata": {},
   "outputs": [],
   "source": [
    "delta_relevant_docs = InformationRetrieval.get_relevant_doc_indices(query, elias_delta_inverted_index)"
   ]
  }
 ],
 "metadata": {
  "kernelspec": {
   "display_name": "Python 3.11.6 64-bit",
   "language": "python",
   "name": "python3"
  },
  "language_info": {
   "codemirror_mode": {
    "name": "ipython",
    "version": 3
   },
   "file_extension": ".py",
   "mimetype": "text/x-python",
   "name": "python",
   "nbconvert_exporter": "python",
   "pygments_lexer": "ipython3",
   "version": "3.11.6"
  },
  "orig_nbformat": 4,
  "vscode": {
   "interpreter": {
    "hash": "b0fa6594d8f4cbf19f97940f81e996739fb7646882a419484c72d19e05852a7e"
   }
  }
 },
 "nbformat": 4,
 "nbformat_minor": 2
}
