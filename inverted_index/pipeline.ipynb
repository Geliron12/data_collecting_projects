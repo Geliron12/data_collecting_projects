{
 "cells": [
  {
   "cell_type": "code",
   "execution_count": 55,
   "metadata": {},
   "outputs": [],
   "source": [
    "import sys\n",
    "import pickle\n",
    "import pandas as pd\n",
    "from bitarray import bitarray\n",
    "\n",
    "from nltk.tokenize import sent_tokenize\n",
    "from coding import EliasCoding, NumberRepr\n",
    "from retrieval import IRetrieval\n",
    "from indexing import InvertedIndex\n",
    "from preprocessing import Tokenization\n",
    "from deduplication import deduplicate_data\n",
    "from utils import get_object_size, get_time, load_dataset, load_file, save_file"
   ]
  },
  {
   "cell_type": "markdown",
   "metadata": {},
   "source": [
    "### Проверка кодирования и декодирования Элиаса"
   ]
  },
  {
   "cell_type": "code",
   "execution_count": 2,
   "metadata": {},
   "outputs": [
    {
     "name": "stdout",
     "output_type": "stream",
     "text": [
      "Бинарное представление числа 1: 1\n",
      "Гамма кодирование Элиаса числа 1: 1\n",
      "Гамма декодирование Элиаса числа 1: 1\n",
      "Гамма кодирование Элиаса числа 1: 1\n",
      "Дельта декодирование Элиаса числа 1: 1 \n",
      "\n",
      "Бинарное представление числа 2: 10\n",
      "Гамма кодирование Элиаса числа 2: 010\n",
      "Гамма декодирование Элиаса числа 2: 2\n",
      "Гамма кодирование Элиаса числа 2: 0100\n",
      "Дельта декодирование Элиаса числа 2: 2 \n",
      "\n"
     ]
    }
   ],
   "source": [
    "#Проверка кодирования\n",
    "for i in range(1, 3):\n",
    "    num_repr = NumberRepr.Binary(i)\n",
    "    elias_gamma_encode = EliasCoding.elias_gamma_encode(i)\n",
    "    elias_gamma_decode = EliasCoding.elias_gamma_decode(elias_gamma_encode)\n",
    "    elias_delta_encode = EliasCoding.elias_delta_encode(i)\n",
    "    elias_delta_decode = EliasCoding.elias_delta_decode(elias_delta_encode)\n",
    "\n",
    "    print(f\"Бинарное представление числа {i}:\", num_repr)\n",
    "    print(f\"Гамма кодирование Элиаса числа {i}:\", elias_gamma_encode)\n",
    "    print(f\"Гамма декодирование Элиаса числа {i}:\", elias_gamma_decode)\n",
    "    print(f\"Гамма кодирование Элиаса числа {i}:\", elias_delta_encode)\n",
    "    print(f\"Дельта декодирование Элиаса числа {i}:\", elias_delta_decode, \"\\n\")"
   ]
  },
  {
   "cell_type": "code",
   "execution_count": 3,
   "metadata": {},
   "outputs": [
    {
     "name": "stdout",
     "output_type": "stream",
     "text": [
      "[100, 1, 12, 1, 1, 12100]\n",
      "[1, 17, 8, 5, 1]\n"
     ]
    }
   ],
   "source": [
    "#Проверка корректности декодирования строки \n",
    "#100, 1, 12, 1, 1, 12100\n",
    "gamma_test = '00000011001001000110011000000000000010111101000100'\n",
    "gamma_res = EliasCoding.decode_gamma_string(gamma_test)\n",
    "print(gamma_res)\n",
    "#1, 17, 8, 5, 1\n",
    "delta_test = '100101000100100000011011'\n",
    "delta_res = EliasCoding.decode_delta_string(delta_test)\n",
    "print(delta_res)"
   ]
  },
  {
   "cell_type": "markdown",
   "metadata": {},
   "source": [
    "### Подготовка данных"
   ]
  },
  {
   "cell_type": "code",
   "execution_count": 33,
   "metadata": {},
   "outputs": [
    {
     "name": "stdout",
     "output_type": "stream",
     "text": [
      "40069  – количество записей в корпусе\n",
      "35061  – количество уникальных записей в корпусе\n"
     ]
    }
   ],
   "source": [
    "#Путь к файлу с данными\n",
    "data_path = \"/Users/petrovich/Desktop/my_code/data_collecting_projects/inverted_index/data/МГУ_2023-12-31.csv\"\n",
    "#Загрузка данных\n",
    "docs = load_dataset(data_path)\n",
    "print(len(docs), \" – количество записей в корпусе\")\n",
    "print(len(set(docs)), \" – количество уникальных записей в корпусе\")"
   ]
  },
  {
   "cell_type": "code",
   "execution_count": 17,
   "metadata": {},
   "outputs": [
    {
     "name": "stdout",
     "output_type": "stream",
     "text": [
      "659278  – количество предложений в корпусе\n",
      "449575  – количество уникальных предложений в корпусе\n"
     ]
    }
   ],
   "source": [
    "corpus_sentences_list = []\n",
    "for doc in docs:  \n",
    "    sentence_list = sent_tokenize(doc, language='russian')\n",
    "    corpus_sentences_list.extend(sentence_list)\n",
    "print(len(corpus_sentences_list), \" – количество предложений в корпусе\")\n",
    "print(len(set(corpus_sentences_list)), \" – количество уникальных предложений в корпусе\")"
   ]
  },
  {
   "cell_type": "markdown",
   "metadata": {},
   "source": [
    "### Дедупликация данных"
   ]
  },
  {
   "cell_type": "code",
   "execution_count": 56,
   "metadata": {},
   "outputs": [],
   "source": [
    "copied_docs = docs.copy()\n",
    "deduplicated_docs = deduplicate_data(copied_docs)"
   ]
  },
  {
   "cell_type": "code",
   "execution_count": 57,
   "metadata": {},
   "outputs": [
    {
     "data": {
      "text/plain": [
       "0        По страницам газет прошлых лет \\n \\n НА ВОЙНЕ ...\n",
       "1        #новости@rsue.rinh | Студенты РГЭУ (РИНХ) стал...\n",
       "2        Ведущие ученые МГУ имени Ломоносова провели ле...\n",
       "3        🌺 Евгения ЛИСИЦЫНА в Московском университете 💐...\n",
       "4        YouTalk — сервис психологической помощи - Подк...\n",
       "                               ...                        \n",
       "40012                                                40009\n",
       "40013                                                40009\n",
       "40014                                                40009\n",
       "40029                                                32042\n",
       "40037                                                 8550\n",
       "Name: texts, Length: 45077, dtype: object"
      ]
     },
     "execution_count": 57,
     "metadata": {},
     "output_type": "execute_result"
    }
   ],
   "source": [
    "deduplicated_docs"
   ]
  },
  {
   "cell_type": "markdown",
   "metadata": {},
   "source": [
    "### Токенизация документов"
   ]
  },
  {
   "cell_type": "code",
   "execution_count": null,
   "metadata": {},
   "outputs": [],
   "source": [
    "#Токенизация документов\n",
    "tokenized_docs = Tokenization.tokenize_doc_corpus(docs)\n",
    "#save_file(tokenized_docs, \"tokenized_docs\")"
   ]
  },
  {
   "cell_type": "code",
   "execution_count": 7,
   "metadata": {},
   "outputs": [],
   "source": [
    "#Загрузка локального файла \n",
    "tokenized_docs = load_file(\"tokenized_docs\")"
   ]
  },
  {
   "cell_type": "markdown",
   "metadata": {},
   "source": [
    "### Построение инвертированного индекса"
   ]
  },
  {
   "cell_type": "code",
   "execution_count": 13,
   "metadata": {},
   "outputs": [
    {
     "name": "stdout",
     "output_type": "stream",
     "text": [
      "196138 – количество ключей в инвертированном индексе\n"
     ]
    }
   ],
   "source": [
    "#700к без нормализации\n",
    "inverted_index = InvertedIndex.create_inverted_index(tokenized_docs)\n",
    "print(len(inverted_index.keys()), \"– количество ключей в инвертированном индексе\")"
   ]
  },
  {
   "cell_type": "markdown",
   "metadata": {},
   "source": [
    "### Оптимизация инвертированного индекса"
   ]
  },
  {
   "cell_type": "code",
   "execution_count": 16,
   "metadata": {},
   "outputs": [],
   "source": [
    "#Инвертированный индекс после гамма кодирования Элиаса\n",
    "elias_gamma_inverted_index = InvertedIndex.compress_inverted_index(inverted_index.copy(), mode=\"gamma\")"
   ]
  },
  {
   "cell_type": "code",
   "execution_count": 17,
   "metadata": {},
   "outputs": [],
   "source": [
    "#Инвертированный индекс после дельта кодирования Элиаса\n",
    "elias_delta_inverted_index = InvertedIndex.compress_inverted_index(inverted_index.copy(), mode=\"delta\")"
   ]
  },
  {
   "cell_type": "markdown",
   "metadata": {},
   "source": [
    "### Сравнение размеров инвертированного индекса"
   ]
  },
  {
   "cell_type": "code",
   "execution_count": 9,
   "metadata": {},
   "outputs": [
    {
     "name": "stdout",
     "output_type": "stream",
     "text": [
      "84613 КБ – размер инвертированного индекса до сжатия\n",
      "60394 КБ – размер инвертированного индекса после гамма кодирования Элиаса\n",
      "56017 КБ – размер инвертированного индекса после дельта кодирования Элиаса\n"
     ]
    }
   ],
   "source": [
    "print(round(get_object_size(inverted_index)), \"КБ – размер инвертированного индекса до сжатия\")\n",
    "print(round(get_object_size(elias_gamma_inverted_index)), \"КБ – размер инвертированного индекса после гамма кодирования Элиаса\")\n",
    "print(round(get_object_size(elias_delta_inverted_index)), \"КБ – размер инвертированного индекса после дельта кодирования Элиаса\")"
   ]
  },
  {
   "cell_type": "markdown",
   "metadata": {},
   "source": [
    "### Информационный поиск"
   ]
  },
  {
   "cell_type": "code",
   "execution_count": 10,
   "metadata": {},
   "outputs": [],
   "source": [
    "#Поиск индексов релевантных документов\n",
    "query = \"Ректор МГУ\"\n",
    "basic_relevant_docs, basic_time = get_time(IRetrieval.get_relevant_doc_indices, query, inverted_index, compressed=\"\")\n",
    "gamma_relevant_docs, gamma_time = get_time(IRetrieval.get_relevant_doc_indices, query, elias_gamma_inverted_index, compressed=\"gamma\")\n",
    "delta_relevant_docs, delta_time = get_time(IRetrieval.get_relevant_doc_indices, query, elias_delta_inverted_index, compressed=\"delta\")\n"
   ]
  },
  {
   "cell_type": "code",
   "execution_count": 11,
   "metadata": {},
   "outputs": [
    {
     "name": "stdout",
     "output_type": "stream",
     "text": [
      "39224 найдено документов по OR запросу 'Ректор МГУ' за 0.004569c обычным инвертированным индексом\n",
      "39224 найдено документов по OR запросу 'Ректор МГУ' за 0.86206c с использованием гамма кода Элиаса\n",
      "39224 найдено документов по OR запросу 'Ректор МГУ' за 0.685798c с использованием дельта кода Элиаса\n"
     ]
    }
   ],
   "source": [
    "print(len(basic_relevant_docs), f\"найдено документов по OR запросу '{query}' за {basic_time}c обычным инвертированным индексом\")\n",
    "print(len(gamma_relevant_docs), f\"найдено документов по OR запросу '{query}' за {gamma_time}c с использованием гамма кода Элиаса\")\n",
    "print(len(delta_relevant_docs), f\"найдено документов по OR запросу '{query}' за {delta_time}c с использованием дельта кода Элиаса\")"
   ]
  }
 ],
 "metadata": {
  "kernelspec": {
   "display_name": "Python 3.9.6 ('.venv': venv)",
   "language": "python",
   "name": "python3"
  },
  "language_info": {
   "codemirror_mode": {
    "name": "ipython",
    "version": 3
   },
   "file_extension": ".py",
   "mimetype": "text/x-python",
   "name": "python",
   "nbconvert_exporter": "python",
   "pygments_lexer": "ipython3",
   "version": "3.10.8"
  },
  "orig_nbformat": 4,
  "vscode": {
   "interpreter": {
    "hash": "a41e4ad1a7a9ea5c2ee9454faf08c58e3b18b72e6f7d078bfef1d60ec35b7d06"
   }
  }
 },
 "nbformat": 4,
 "nbformat_minor": 2
}
