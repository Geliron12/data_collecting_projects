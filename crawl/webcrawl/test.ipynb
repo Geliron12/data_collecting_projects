{
 "cells": [
  {
   "cell_type": "code",
   "execution_count": 2,
   "metadata": {},
   "outputs": [],
   "source": [
    "import pandas as pd"
   ]
  },
  {
   "cell_type": "code",
   "execution_count": 9,
   "metadata": {},
   "outputs": [],
   "source": [
    "data_df = pd.read_csv('results.csv')"
   ]
  },
  {
   "cell_type": "code",
   "execution_count": 10,
   "metadata": {},
   "outputs": [
    {
     "data": {
      "text/html": [
       "<div>\n",
       "<style scoped>\n",
       "    .dataframe tbody tr th:only-of-type {\n",
       "        vertical-align: middle;\n",
       "    }\n",
       "\n",
       "    .dataframe tbody tr th {\n",
       "        vertical-align: top;\n",
       "    }\n",
       "\n",
       "    .dataframe thead th {\n",
       "        text-align: right;\n",
       "    }\n",
       "</style>\n",
       "<table border=\"1\" class=\"dataframe\">\n",
       "  <thead>\n",
       "    <tr style=\"text-align: right;\">\n",
       "      <th></th>\n",
       "      <th>url</th>\n",
       "      <th>title</th>\n",
       "      <th>links</th>\n",
       "      <th>isdocx</th>\n",
       "      <th>isdoc</th>\n",
       "      <th>ispdf</th>\n",
       "      <th>subdomain</th>\n",
       "    </tr>\n",
       "  </thead>\n",
       "  <tbody>\n",
       "    <tr>\n",
       "      <th>0</th>\n",
       "      <td>https://spbu.ru/</td>\n",
       "      <td>Главная | Санкт-Петербургский государственный ...</td>\n",
       "      <td>https://300.spbu.ru/,https://spbu.ru/,https://...</td>\n",
       "      <td>False</td>\n",
       "      <td>False</td>\n",
       "      <td>False</td>\n",
       "      <td>https://spbu.ru</td>\n",
       "    </tr>\n",
       "    <tr>\n",
       "      <th>1</th>\n",
       "      <td>https://spbu.ru/universitet/onlayn-kursy-spbgu</td>\n",
       "      <td>Онлайн-курсы СПбГУ | Санкт-Петербургский госуд...</td>\n",
       "      <td>https://300.spbu.ru/,https://spbu.ru/,https://...</td>\n",
       "      <td>False</td>\n",
       "      <td>False</td>\n",
       "      <td>False</td>\n",
       "      <td>https://spbu.ru</td>\n",
       "    </tr>\n",
       "    <tr>\n",
       "      <th>2</th>\n",
       "      <td>https://olympiada.spbu.ru</td>\n",
       "      <td>Об Олимпиаде  - Олимпиада школьников СПбГУ</td>\n",
       "      <td>https://olympiada.spbu.ru,https://vk.com/olymp...</td>\n",
       "      <td>False</td>\n",
       "      <td>False</td>\n",
       "      <td>False</td>\n",
       "      <td>https://olympiada.spbu.ru</td>\n",
       "    </tr>\n",
       "    <tr>\n",
       "      <th>3</th>\n",
       "      <td>https://store.spbu.ru/</td>\n",
       "      <td>Интернет-магазин СПбГУ</td>\n",
       "      <td>https://store.spbu.ru/,https://store.spbu.ru/c...</td>\n",
       "      <td>False</td>\n",
       "      <td>False</td>\n",
       "      <td>False</td>\n",
       "      <td>https://store.spbu.ru</td>\n",
       "    </tr>\n",
       "    <tr>\n",
       "      <th>4</th>\n",
       "      <td>https://online.spbu.ru/</td>\n",
       "      <td>Центр развития электронных образовательных рес...</td>\n",
       "      <td>https://online.spbu.ru/,https://online.spbu.ru...</td>\n",
       "      <td>False</td>\n",
       "      <td>False</td>\n",
       "      <td>False</td>\n",
       "      <td>https://online.spbu.ru</td>\n",
       "    </tr>\n",
       "  </tbody>\n",
       "</table>\n",
       "</div>"
      ],
      "text/plain": [
       "                                              url  \\\n",
       "0                                https://spbu.ru/   \n",
       "1  https://spbu.ru/universitet/onlayn-kursy-spbgu   \n",
       "2                       https://olympiada.spbu.ru   \n",
       "3                          https://store.spbu.ru/   \n",
       "4                         https://online.spbu.ru/   \n",
       "\n",
       "                                               title  \\\n",
       "0  Главная | Санкт-Петербургский государственный ...   \n",
       "1  Онлайн-курсы СПбГУ | Санкт-Петербургский госуд...   \n",
       "2         Об Олимпиаде  - Олимпиада школьников СПбГУ   \n",
       "3                             Интернет-магазин СПбГУ   \n",
       "4  Центр развития электронных образовательных рес...   \n",
       "\n",
       "                                               links  isdocx  isdoc  ispdf  \\\n",
       "0  https://300.spbu.ru/,https://spbu.ru/,https://...   False  False  False   \n",
       "1  https://300.spbu.ru/,https://spbu.ru/,https://...   False  False  False   \n",
       "2  https://olympiada.spbu.ru,https://vk.com/olymp...   False  False  False   \n",
       "3  https://store.spbu.ru/,https://store.spbu.ru/c...   False  False  False   \n",
       "4  https://online.spbu.ru/,https://online.spbu.ru...   False  False  False   \n",
       "\n",
       "                   subdomain  \n",
       "0            https://spbu.ru  \n",
       "1            https://spbu.ru  \n",
       "2  https://olympiada.spbu.ru  \n",
       "3      https://store.spbu.ru  \n",
       "4     https://online.spbu.ru  "
      ]
     },
     "execution_count": 10,
     "metadata": {},
     "output_type": "execute_result"
    }
   ],
   "source": [
    "data_df.head()"
   ]
  },
  {
   "cell_type": "code",
   "execution_count": 11,
   "metadata": {},
   "outputs": [
    {
     "data": {
      "text/plain": [
       "(85766, 85766)"
      ]
     },
     "execution_count": 11,
     "metadata": {},
     "output_type": "execute_result"
    }
   ],
   "source": [
    "len(data_df.url.unique()), len(data_df.url)"
   ]
  },
  {
   "cell_type": "code",
   "execution_count": 110,
   "metadata": {},
   "outputs": [
    {
     "data": {
      "text/html": [
       "<div>\n",
       "<style scoped>\n",
       "    .dataframe tbody tr th:only-of-type {\n",
       "        vertical-align: middle;\n",
       "    }\n",
       "\n",
       "    .dataframe tbody tr th {\n",
       "        vertical-align: top;\n",
       "    }\n",
       "\n",
       "    .dataframe thead th {\n",
       "        text-align: right;\n",
       "    }\n",
       "</style>\n",
       "<table border=\"1\" class=\"dataframe\">\n",
       "  <thead>\n",
       "    <tr style=\"text-align: right;\">\n",
       "      <th></th>\n",
       "      <th>url</th>\n",
       "      <th>title</th>\n",
       "      <th>links</th>\n",
       "      <th>isdocx</th>\n",
       "      <th>isdoc</th>\n",
       "      <th>ispdf</th>\n",
       "      <th>subdomain</th>\n",
       "    </tr>\n",
       "  </thead>\n",
       "  <tbody>\n",
       "    <tr>\n",
       "      <th>170</th>\n",
       "      <td>https://help.it.spbu.ru/books/dostup-i-edinaya...</td>\n",
       "      <td>NaN</td>\n",
       "      <td>NaN</td>\n",
       "      <td>False</td>\n",
       "      <td>False</td>\n",
       "      <td>True</td>\n",
       "      <td>https://help.it.spbu.ru</td>\n",
       "    </tr>\n",
       "    <tr>\n",
       "      <th>176</th>\n",
       "      <td>https://help.it.spbu.ru/books/dostup-i-edinaya...</td>\n",
       "      <td>NaN</td>\n",
       "      <td>NaN</td>\n",
       "      <td>False</td>\n",
       "      <td>False</td>\n",
       "      <td>True</td>\n",
       "      <td>https://help.it.spbu.ru</td>\n",
       "    </tr>\n",
       "    <tr>\n",
       "      <th>508</th>\n",
       "      <td>https://help.it.spbu.ru/books/dostup-i-edinaya...</td>\n",
       "      <td>NaN</td>\n",
       "      <td>NaN</td>\n",
       "      <td>False</td>\n",
       "      <td>False</td>\n",
       "      <td>True</td>\n",
       "      <td>https://help.it.spbu.ru</td>\n",
       "    </tr>\n",
       "    <tr>\n",
       "      <th>552</th>\n",
       "      <td>https://help.it.spbu.ru/books/nachalo-raboty-v...</td>\n",
       "      <td>NaN</td>\n",
       "      <td>NaN</td>\n",
       "      <td>False</td>\n",
       "      <td>False</td>\n",
       "      <td>True</td>\n",
       "      <td>https://help.it.spbu.ru</td>\n",
       "    </tr>\n",
       "    <tr>\n",
       "      <th>554</th>\n",
       "      <td>https://help.it.spbu.ru/books/gia-2023/export/pdf</td>\n",
       "      <td>NaN</td>\n",
       "      <td>NaN</td>\n",
       "      <td>False</td>\n",
       "      <td>False</td>\n",
       "      <td>True</td>\n",
       "      <td>https://help.it.spbu.ru</td>\n",
       "    </tr>\n",
       "    <tr>\n",
       "      <th>559</th>\n",
       "      <td>https://help.it.spbu.ru/books/gia-2023/page/in...</td>\n",
       "      <td>NaN</td>\n",
       "      <td>NaN</td>\n",
       "      <td>False</td>\n",
       "      <td>False</td>\n",
       "      <td>True</td>\n",
       "      <td>https://help.it.spbu.ru</td>\n",
       "    </tr>\n",
       "    <tr>\n",
       "      <th>570</th>\n",
       "      <td>https://help.it.spbu.ru/books/poryadok-obrashc...</td>\n",
       "      <td>NaN</td>\n",
       "      <td>NaN</td>\n",
       "      <td>False</td>\n",
       "      <td>False</td>\n",
       "      <td>True</td>\n",
       "      <td>https://help.it.spbu.ru</td>\n",
       "    </tr>\n",
       "    <tr>\n",
       "      <th>584</th>\n",
       "      <td>https://help.it.spbu.ru/books/nachalo-raboty-v...</td>\n",
       "      <td>NaN</td>\n",
       "      <td>NaN</td>\n",
       "      <td>False</td>\n",
       "      <td>False</td>\n",
       "      <td>True</td>\n",
       "      <td>https://help.it.spbu.ru</td>\n",
       "    </tr>\n",
       "    <tr>\n",
       "      <th>615</th>\n",
       "      <td>https://help.it.spbu.ru/books/proverka-pgas/ex...</td>\n",
       "      <td>NaN</td>\n",
       "      <td>NaN</td>\n",
       "      <td>False</td>\n",
       "      <td>False</td>\n",
       "      <td>True</td>\n",
       "      <td>https://help.it.spbu.ru</td>\n",
       "    </tr>\n",
       "    <tr>\n",
       "      <th>621</th>\n",
       "      <td>https://help.it.spbu.ru/books/proverka-pgas/pa...</td>\n",
       "      <td>NaN</td>\n",
       "      <td>NaN</td>\n",
       "      <td>False</td>\n",
       "      <td>False</td>\n",
       "      <td>True</td>\n",
       "      <td>https://help.it.spbu.ru</td>\n",
       "    </tr>\n",
       "    <tr>\n",
       "      <th>674</th>\n",
       "      <td>https://help.it.spbu.ru/books/poryadok-obrashc...</td>\n",
       "      <td>NaN</td>\n",
       "      <td>NaN</td>\n",
       "      <td>False</td>\n",
       "      <td>False</td>\n",
       "      <td>True</td>\n",
       "      <td>https://help.it.spbu.ru</td>\n",
       "    </tr>\n",
       "    <tr>\n",
       "      <th>20559</th>\n",
       "      <td>https://students.spbu.ru/files/10793_1_1708202...</td>\n",
       "      <td>NaN</td>\n",
       "      <td>NaN</td>\n",
       "      <td>False</td>\n",
       "      <td>False</td>\n",
       "      <td>True</td>\n",
       "      <td>https://students.spbu.ru</td>\n",
       "    </tr>\n",
       "  </tbody>\n",
       "</table>\n",
       "</div>"
      ],
      "text/plain": [
       "                                                     url title links  isdocx  \\\n",
       "170    https://help.it.spbu.ru/books/dostup-i-edinaya...   NaN   NaN   False   \n",
       "176    https://help.it.spbu.ru/books/dostup-i-edinaya...   NaN   NaN   False   \n",
       "508    https://help.it.spbu.ru/books/dostup-i-edinaya...   NaN   NaN   False   \n",
       "552    https://help.it.spbu.ru/books/nachalo-raboty-v...   NaN   NaN   False   \n",
       "554    https://help.it.spbu.ru/books/gia-2023/export/pdf   NaN   NaN   False   \n",
       "559    https://help.it.spbu.ru/books/gia-2023/page/in...   NaN   NaN   False   \n",
       "570    https://help.it.spbu.ru/books/poryadok-obrashc...   NaN   NaN   False   \n",
       "584    https://help.it.spbu.ru/books/nachalo-raboty-v...   NaN   NaN   False   \n",
       "615    https://help.it.spbu.ru/books/proverka-pgas/ex...   NaN   NaN   False   \n",
       "621    https://help.it.spbu.ru/books/proverka-pgas/pa...   NaN   NaN   False   \n",
       "674    https://help.it.spbu.ru/books/poryadok-obrashc...   NaN   NaN   False   \n",
       "20559  https://students.spbu.ru/files/10793_1_1708202...   NaN   NaN   False   \n",
       "\n",
       "       isdoc  ispdf                 subdomain  \n",
       "170    False   True   https://help.it.spbu.ru  \n",
       "176    False   True   https://help.it.spbu.ru  \n",
       "508    False   True   https://help.it.spbu.ru  \n",
       "552    False   True   https://help.it.spbu.ru  \n",
       "554    False   True   https://help.it.spbu.ru  \n",
       "559    False   True   https://help.it.spbu.ru  \n",
       "570    False   True   https://help.it.spbu.ru  \n",
       "584    False   True   https://help.it.spbu.ru  \n",
       "615    False   True   https://help.it.spbu.ru  \n",
       "621    False   True   https://help.it.spbu.ru  \n",
       "674    False   True   https://help.it.spbu.ru  \n",
       "20559  False   True  https://students.spbu.ru  "
      ]
     },
     "execution_count": 110,
     "metadata": {},
     "output_type": "execute_result"
    }
   ],
   "source": [
    "data_df[data_df['ispdf'] == True]"
   ]
  },
  {
   "cell_type": "code",
   "execution_count": 21,
   "metadata": {},
   "outputs": [
    {
     "data": {
      "text/plain": [
       "0       False\n",
       "1       False\n",
       "2       False\n",
       "3       False\n",
       "4       False\n",
       "        ...  \n",
       "1697    False\n",
       "1698    False\n",
       "1699    False\n",
       "1700    False\n",
       "1701    False\n",
       "Name: url, Length: 1702, dtype: bool"
      ]
     },
     "execution_count": 21,
     "metadata": {},
     "output_type": "execute_result"
    }
   ],
   "source": [
    "data_df.url.duplicated()"
   ]
  },
  {
   "cell_type": "code",
   "execution_count": 17,
   "metadata": {},
   "outputs": [
    {
     "data": {
      "text/plain": [
       "'https://hustlers-university.ca/'"
      ]
     },
     "execution_count": 17,
     "metadata": {},
     "output_type": "execute_result"
    }
   ],
   "source": [
    "data_df.url[8]"
   ]
  },
  {
   "cell_type": "code",
   "execution_count": 26,
   "metadata": {},
   "outputs": [],
   "source": [
    "import re"
   ]
  },
  {
   "cell_type": "code",
   "execution_count": 43,
   "metadata": {},
   "outputs": [
    {
     "name": "stdout",
     "output_type": "stream",
     "text": [
      "0.02004218101501465\n"
     ]
    }
   ],
   "source": [
    "import time\n",
    "url = \"spbu.ru\"\n",
    "start_time = time.time()\n",
    "for i in range (10000):\n",
    "    template = re.compile(r'\\S*spbu.ru')\n",
    "    result = re.match(template, r'https://publishing.spbu.ru/')\n",
    "print(time.time() - start_time)"
   ]
  },
  {
   "cell_type": "code",
   "execution_count": 58,
   "metadata": {},
   "outputs": [
    {
     "name": "stdout",
     "output_type": "stream",
     "text": [
      "0.014975547790527344\n"
     ]
    }
   ],
   "source": [
    "import time\n",
    "url = \"spbu.ru\"\n",
    "start_time = time.time()\n",
    "template = re.compile(r'\\S*spbu.ru')\n",
    "for i in range (10000):\n",
    "    result = re.match(template, r'dfjoidi')\n",
    "    if result:\n",
    "        print(1)\n",
    "print(time.time() - start_time)"
   ]
  },
  {
   "cell_type": "code",
   "execution_count": 57,
   "metadata": {},
   "outputs": [
    {
     "name": "stdout",
     "output_type": "stream",
     "text": [
      "slpdl'sls\\nslpd'\n"
     ]
    }
   ],
   "source": [
    "q = 'sls\\nslpd'\n",
    "print(r'slpdl' + repr(q))"
   ]
  },
  {
   "cell_type": "code",
   "execution_count": 96,
   "metadata": {},
   "outputs": [
    {
     "name": "stdout",
     "output_type": "stream",
     "text": [
      "1\n"
     ]
    }
   ],
   "source": [
    "template = re.compile(r'\\S*' + [\"spbu.ru\"][0])\n",
    "if match_result := re.match(template, 'https://spbu.ru/topics/1995'):\n",
    "    print(1)"
   ]
  },
  {
   "cell_type": "code",
   "execution_count": 95,
   "metadata": {},
   "outputs": [
    {
     "data": {
      "text/plain": [
       "'https://spbu.ru'"
      ]
     },
     "execution_count": 95,
     "metadata": {},
     "output_type": "execute_result"
    }
   ],
   "source": [
    "re.match(template, 'https://spbu.ru/topics/1995').group(0)"
   ]
  },
  {
   "cell_type": "code",
   "execution_count": 82,
   "metadata": {},
   "outputs": [
    {
     "data": {
      "text/plain": [
       "\"\\\\S*'spbu.ru'\""
      ]
     },
     "execution_count": 82,
     "metadata": {},
     "output_type": "execute_result"
    }
   ],
   "source": [
    "r'\\S*' + repr('spbu.ru')"
   ]
  },
  {
   "cell_type": "code",
   "execution_count": 1,
   "metadata": {},
   "outputs": [],
   "source": [
    "from crawl_domen import SiteCrawler"
   ]
  },
  {
   "cell_type": "code",
   "execution_count": 2,
   "metadata": {},
   "outputs": [],
   "source": [
    "crawl = SiteCrawler(['konch','english'],[['hustlers-university.ca'],['usefulenglish.ru']], [['https://hustlers-university.ca/'],['https://usefulenglish.ru/']])"
   ]
  },
  {
   "cell_type": "code",
   "execution_count": 3,
   "metadata": {},
   "outputs": [
    {
     "name": "stderr",
     "output_type": "stream",
     "text": [
      "2024-03-31 20:29:38 [scrapy.utils.log] INFO: Scrapy 2.11.1 started (bot: konch)\n",
      "2024-03-31 20:29:38 [scrapy.utils.log] INFO: Versions: lxml 4.9.3.0, libxml2 2.10.4, cssselect 1.2.0, parsel 1.8.1, w3lib 2.1.2, Twisted 23.10.0, Python 3.10.14 | packaged by Anaconda, Inc. | (main, Mar 21 2024, 16:20:14) [MSC v.1916 64 bit (AMD64)], pyOpenSSL 24.0.0 (OpenSSL 3.0.13 30 Jan 2024), cryptography 42.0.5, Platform Windows-10-10.0.19045-SP0\n",
      "2024-03-31 20:29:38 [scrapy.utils.log] INFO: Scrapy 2.11.1 started (bot: english)\n",
      "2024-03-31 20:29:38 [scrapy.utils.log] INFO: Versions: lxml 4.9.3.0, libxml2 2.10.4, cssselect 1.2.0, parsel 1.8.1, w3lib 2.1.2, Twisted 23.10.0, Python 3.10.14 | packaged by Anaconda, Inc. | (main, Mar 21 2024, 16:20:14) [MSC v.1916 64 bit (AMD64)], pyOpenSSL 24.0.0 (OpenSSL 3.0.13 30 Jan 2024), cryptography 42.0.5, Platform Windows-10-10.0.19045-SP0\n",
      "2024-03-31 20:29:38 [scrapy.addons] INFO: Enabled addons:\n",
      "[]\n",
      "2024-03-31 20:29:38 [py.warnings] WARNING: c:\\Users\\User\\anaconda3\\envs\\crawl\\lib\\site-packages\\scrapy\\utils\\request.py:254: ScrapyDeprecationWarning: '2.6' is a deprecated value for the 'REQUEST_FINGERPRINTER_IMPLEMENTATION' setting.\n",
      "\n",
      "It is also the default value. In other words, it is normal to get this warning if you have not defined a value for the 'REQUEST_FINGERPRINTER_IMPLEMENTATION' setting. This is so for backward compatibility reasons, but it will change in a future version of Scrapy.\n",
      "\n",
      "See the documentation of the 'REQUEST_FINGERPRINTER_IMPLEMENTATION' setting for information on how to handle this deprecation.\n",
      "  return cls(crawler)\n",
      "\n",
      "2024-03-31 20:29:38 [scrapy.utils.log] DEBUG: Using reactor: twisted.internet.selectreactor.SelectReactor\n",
      "2024-03-31 20:29:38 [scrapy.extensions.telnet] INFO: Telnet Password: f99debe0044623ef\n",
      "2024-03-31 20:29:38 [py.warnings] WARNING: c:\\Users\\User\\anaconda3\\envs\\crawl\\lib\\site-packages\\scrapy\\extensions\\feedexport.py:406: ScrapyDeprecationWarning: The `FEED_URI` and `FEED_FORMAT` settings have been deprecated in favor of the `FEEDS` setting. Please see the `FEEDS` setting docs for more details\n",
      "  exporter = cls(crawler)\n",
      "\n",
      "2024-03-31 20:29:38 [scrapy.middleware] INFO: Enabled extensions:\n",
      "['scrapy.extensions.corestats.CoreStats',\n",
      " 'scrapy.extensions.telnet.TelnetConsole',\n",
      " 'scrapy.extensions.feedexport.FeedExporter',\n",
      " 'scrapy.extensions.logstats.LogStats']\n",
      "2024-03-31 20:29:38 [scrapy.crawler] INFO: Overridden settings:\n",
      "{'BOT_NAME': 'konch',\n",
      " 'USER_AGENT': 'Mozilla/5.0 (iPad; CPU OS 12_2 like Mac OS X) '\n",
      "               'AppleWebKit/605.1.15 (KHTML, like Gecko) Mobile/15E148'}\n",
      "2024-03-31 20:29:38 [scrapy.middleware] INFO: Enabled downloader middlewares:\n",
      "['scrapy.downloadermiddlewares.httpauth.HttpAuthMiddleware',\n",
      " 'scrapy.downloadermiddlewares.downloadtimeout.DownloadTimeoutMiddleware',\n",
      " 'scrapy.downloadermiddlewares.defaultheaders.DefaultHeadersMiddleware',\n",
      " 'scrapy.downloadermiddlewares.useragent.UserAgentMiddleware',\n",
      " 'scrapy.downloadermiddlewares.retry.RetryMiddleware',\n",
      " 'scrapy.downloadermiddlewares.redirect.MetaRefreshMiddleware',\n",
      " 'scrapy.downloadermiddlewares.httpcompression.HttpCompressionMiddleware',\n",
      " 'scrapy.downloadermiddlewares.redirect.RedirectMiddleware',\n",
      " 'scrapy.downloadermiddlewares.cookies.CookiesMiddleware',\n",
      " 'scrapy.downloadermiddlewares.httpproxy.HttpProxyMiddleware',\n",
      " 'scrapy.downloadermiddlewares.stats.DownloaderStats']\n",
      "2024-03-31 20:29:38 [scrapy.middleware] INFO: Enabled spider middlewares:\n",
      "['scrapy.spidermiddlewares.httperror.HttpErrorMiddleware',\n",
      " 'scrapy.spidermiddlewares.offsite.OffsiteMiddleware',\n",
      " 'scrapy.spidermiddlewares.referer.RefererMiddleware',\n",
      " 'scrapy.spidermiddlewares.urllength.UrlLengthMiddleware',\n",
      " 'scrapy.spidermiddlewares.depth.DepthMiddleware']\n",
      "2024-03-31 20:29:38 [scrapy.middleware] INFO: Enabled item pipelines:\n",
      "[]\n",
      "2024-03-31 20:29:38 [scrapy.core.engine] INFO: Spider opened\n",
      "2024-03-31 20:29:38 [scrapy.extensions.logstats] INFO: Crawled 0 pages (at 0 pages/min), scraped 0 items (at 0 items/min)\n",
      "2024-03-31 20:29:38 [scrapy.extensions.telnet] INFO: Telnet console listening on 127.0.0.1:6023\n",
      "2024-03-31 20:29:39 [scrapy.core.engine] DEBUG: Crawled (200) <GET https://hustlers-university.ca/> (referer: None)\n",
      "2024-03-31 20:29:39 [urllib3.connectionpool] DEBUG: Starting new HTTPS connection (1): hustlers-university.ca:443\n",
      "2024-03-31 20:29:40 [urllib3.connectionpool] DEBUG: https://hustlers-university.ca:443 \"GET / HTTP/1.1\" 200 None\n",
      "2024-03-31 20:29:40 [scrapy.core.scraper] DEBUG: Scraped from <200 https://hustlers-university.ca/>\n",
      "{'url': 'https://hustlers-university.ca/', 'title': ['Hustlers University 4.0 ⭐️ Official - by Andrew Tate 🎖️'], 'links': ['https://hustlers-university.ca/#content', 'https://hustlers-university.ca/', 'https://hustlers-university.ca/#results', 'https://hustlers-university.ca/#courses', 'https://hustlers-university.ca/#price', 'https://hustlers-university.ca/sign-up/', 'https://hustlers-university.ca/about-us/', 'https://hustlers-university.ca/contact/', 'https://hustlers-university.ca/privacy-policy/', 'https://hustlers-university.ca/terms-and-condition/', 'https://hustlers-university.ca/cdn-cgi/l/email-protection#13606663637c616753797c7a7d7b66273d7a7c', 'https://hustlers-university.ca/login/', 'https://hustlers-university.ca/download/'], 'isdocx': False, 'isdoc': False, 'ispdf': False, 'subdomain': 'https://hustlers-university.ca'}\n",
      "2024-03-31 20:29:40 [scrapy.dupefilters] DEBUG: Filtered duplicate request: <GET https://hustlers-university.ca/> - no more duplicates will be shown (see DUPEFILTER_DEBUG to show all duplicates)\n",
      "2024-03-31 20:29:40 [scrapy.core.engine] DEBUG: Crawled (200) <GET https://hustlers-university.ca/cdn-cgi/l/email-protection#13606663637c616753797c7a7d7b66273d7a7c> (referer: https://hustlers-university.ca/)\n",
      "2024-03-31 20:29:41 [scrapy.core.engine] DEBUG: Crawled (200) <GET https://hustlers-university.ca/download/> (referer: https://hustlers-university.ca/)\n",
      "2024-03-31 20:29:41 [urllib3.connectionpool] DEBUG: Starting new HTTPS connection (1): hustlers-university.ca:443\n",
      "2024-03-31 20:29:41 [urllib3.connectionpool] DEBUG: https://hustlers-university.ca:443 \"GET /cdn-cgi/l/email-protection HTTP/1.1\" 200 None\n",
      "2024-03-31 20:29:41 [scrapy.core.scraper] DEBUG: Scraped from <200 https://hustlers-university.ca/cdn-cgi/l/email-protection>\n",
      "{'url': 'https://hustlers-university.ca/cdn-cgi/l/email-protection', 'title': ['Email Protection | Cloudflare'], 'links': ['https://www.cloudflare.com/sign-up?utm_source=email_protection', 'https://support.cloudflare.com/hc/en-us/articles/200170016-What-is-Email-Address-Obfuscation-', 'https://support.cloudflare.com/hc/en-us/categories/200275218-Getting-Started', 'https://www.cloudflare.com/5xx-error-landing'], 'isdocx': False, 'isdoc': False, 'ispdf': False, 'subdomain': 'https://hustlers-university.ca'}\n",
      "2024-03-31 20:29:41 [scrapy.core.engine] DEBUG: Crawled (200) <GET https://hustlers-university.ca/privacy-policy/> (referer: https://hustlers-university.ca/)\n",
      "2024-03-31 20:29:41 [scrapy.core.engine] DEBUG: Crawled (200) <GET https://hustlers-university.ca/about-us/> (referer: https://hustlers-university.ca/)\n",
      "2024-03-31 20:29:41 [scrapy.core.engine] DEBUG: Crawled (200) <GET https://hustlers-university.ca/#content> (referer: https://hustlers-university.ca/)\n",
      "2024-03-31 20:29:41 [scrapy.core.engine] DEBUG: Crawled (200) <GET https://hustlers-university.ca/contact/> (referer: https://hustlers-university.ca/)\n",
      "2024-03-31 20:29:41 [scrapy.core.engine] DEBUG: Crawled (200) <GET https://hustlers-university.ca/terms-and-condition/> (referer: https://hustlers-university.ca/)\n",
      "2024-03-31 20:29:41 [scrapy.core.engine] DEBUG: Crawled (200) <GET https://hustlers-university.ca/login/> (referer: https://hustlers-university.ca/)\n",
      "2024-03-31 20:29:41 [scrapy.spidermiddlewares.offsite] DEBUG: Filtered offsite request to 'www.cloudflare.com': <GET https://www.cloudflare.com/sign-up?utm_source=email_protection>\n",
      "2024-03-31 20:29:41 [scrapy.spidermiddlewares.offsite] DEBUG: Filtered offsite request to 'support.cloudflare.com': <GET https://support.cloudflare.com/hc/en-us/articles/200170016-What-is-Email-Address-Obfuscation->\n",
      "2024-03-31 20:29:41 [urllib3.connectionpool] DEBUG: Starting new HTTPS connection (1): hustlers-university.ca:443\n",
      "2024-03-31 20:29:42 [urllib3.connectionpool] DEBUG: https://hustlers-university.ca:443 \"GET /download/ HTTP/1.1\" 200 None\n",
      "2024-03-31 20:29:42 [scrapy.core.scraper] DEBUG: Scraped from <200 https://hustlers-university.ca/download/>\n",
      "{'url': 'https://hustlers-university.ca/download/', 'title': ['Hustlers University 4.0 Download | Official App Download ⬇️'], 'links': ['https://hustlers-university.ca/download/#content', 'https://hustlers-university.ca/', 'https://hustlers-university.ca/#results', 'https://hustlers-university.ca/#courses', 'https://hustlers-university.ca/#price', 'https://hustlers-university.ca/sign-up/', 'https://apps.apple.com/il/app/real-world-portal/id1659699640', 'https://play.google.com/store/apps/details?id=com.matrix.therealworld', 'https://desktop-latest.ajtrw.workers.dev/windows', 'https://desktop-latest.ajtrw.workers.dev/mac', 'https://hustlers-university.ca/about-us/', 'https://hustlers-university.ca/contact/', 'https://hustlers-university.ca/privacy-policy/', 'https://hustlers-university.ca/terms-and-condition/', 'https://hustlers-university.ca/cdn-cgi/l/email-protection#5a292f2a2a35282e1a30353334322f6e743335', 'https://hustlers-university.ca/login/', 'https://hustlers-university.ca/download/'], 'isdocx': False, 'isdoc': False, 'ispdf': False, 'subdomain': 'https://hustlers-university.ca'}\n",
      "2024-03-31 20:29:42 [scrapy.downloadermiddlewares.redirect] DEBUG: Redirecting (307) to <GET https://jointherealworld.com/checkout?a=6cpfq7kb89&subid=hustlersuni> from <GET https://hustlers-university.ca/sign-up/>\n",
      "2024-03-31 20:29:42 [scrapy.spidermiddlewares.offsite] DEBUG: Filtered offsite request to 'apps.apple.com': <GET https://apps.apple.com/il/app/real-world-portal/id1659699640>\n",
      "2024-03-31 20:29:42 [scrapy.spidermiddlewares.offsite] DEBUG: Filtered offsite request to 'play.google.com': <GET https://play.google.com/store/apps/details?id=com.matrix.therealworld>\n",
      "2024-03-31 20:29:42 [scrapy.spidermiddlewares.offsite] DEBUG: Filtered offsite request to 'desktop-latest.ajtrw.workers.dev': <GET https://desktop-latest.ajtrw.workers.dev/windows>\n",
      "2024-03-31 20:29:42 [urllib3.connectionpool] DEBUG: Starting new HTTPS connection (1): hustlers-university.ca:443\n",
      "2024-03-31 20:29:43 [urllib3.connectionpool] DEBUG: https://hustlers-university.ca:443 \"GET /privacy-policy/ HTTP/1.1\" 200 None\n",
      "2024-03-31 20:29:43 [scrapy.core.scraper] DEBUG: Scraped from <200 https://hustlers-university.ca/privacy-policy/>\n",
      "{'url': 'https://hustlers-university.ca/privacy-policy/', 'title': ['Privacy Policy - Hustlers University'], 'links': ['https://hustlers-university.ca/privacy-policy/#content', 'https://hustlers-university.ca/', 'https://hustlers-university.ca/#results', 'https://hustlers-university.ca/#courses', 'https://hustlers-university.ca/#price', 'https://hustlers-university.ca/sign-up/', 'https://hustlers-university.ca/about-us/', 'https://hustlers-university.ca/contact/', 'https://hustlers-university.ca/privacy-policy/', 'https://hustlers-university.ca/terms-and-condition/', 'https://hustlers-university.ca/cdn-cgi/l/email-protection#95e6e0e5e5fae7e1d5fffafcfbfde0a1bbfcfa', 'https://hustlers-university.ca/login/', 'https://hustlers-university.ca/download/'], 'isdocx': False, 'isdoc': False, 'ispdf': False, 'subdomain': 'https://hustlers-university.ca'}\n",
      "2024-03-31 20:29:43 [urllib3.connectionpool] DEBUG: Starting new HTTPS connection (1): hustlers-university.ca:443\n",
      "2024-03-31 20:29:43 [urllib3.connectionpool] DEBUG: https://hustlers-university.ca:443 \"GET /about-us/ HTTP/1.1\" 200 None\n",
      "2024-03-31 20:29:43 [scrapy.core.scraper] DEBUG: Scraped from <200 https://hustlers-university.ca/about-us/>\n",
      "{'url': 'https://hustlers-university.ca/about-us/', 'title': ['About Us - Hustlers University'], 'links': ['https://hustlers-university.ca/about-us/#content', 'https://hustlers-university.ca/', 'https://hustlers-university.ca/#results', 'https://hustlers-university.ca/#courses', 'https://hustlers-university.ca/#price', 'https://hustlers-university.ca/sign-up/', 'https://hustlers-university.ca/about-us/', 'https://hustlers-university.ca/contact/', 'https://hustlers-university.ca/privacy-policy/', 'https://hustlers-university.ca/terms-and-condition/', 'https://hustlers-university.ca/cdn-cgi/l/email-protection#aedddbdedec1dcdaeec4c1c7c0c6db9a80c7c1', 'https://hustlers-university.ca/login/', 'https://hustlers-university.ca/download/'], 'isdocx': False, 'isdoc': False, 'ispdf': False, 'subdomain': 'https://hustlers-university.ca'}\n",
      "2024-03-31 20:29:43 [urllib3.connectionpool] DEBUG: Starting new HTTPS connection (1): hustlers-university.ca:443\n",
      "2024-03-31 20:29:44 [urllib3.connectionpool] DEBUG: https://hustlers-university.ca:443 \"GET / HTTP/1.1\" 200 None\n",
      "2024-03-31 20:29:44 [scrapy.core.scraper] DEBUG: Scraped from <200 https://hustlers-university.ca/>\n",
      "{'url': 'https://hustlers-university.ca/', 'title': ['Hustlers University 4.0 ⭐️ Official - by Andrew Tate 🎖️'], 'links': ['https://hustlers-university.ca/#content', 'https://hustlers-university.ca/', 'https://hustlers-university.ca/#results', 'https://hustlers-university.ca/#courses', 'https://hustlers-university.ca/#price', 'https://hustlers-university.ca/sign-up/', 'https://hustlers-university.ca/about-us/', 'https://hustlers-university.ca/contact/', 'https://hustlers-university.ca/privacy-policy/', 'https://hustlers-university.ca/terms-and-condition/', 'https://hustlers-university.ca/cdn-cgi/l/email-protection#5d2e282d2d322f291d37323433352869733432', 'https://hustlers-university.ca/login/', 'https://hustlers-university.ca/download/'], 'isdocx': False, 'isdoc': False, 'ispdf': False, 'subdomain': 'https://hustlers-university.ca'}\n",
      "2024-03-31 20:29:44 [urllib3.connectionpool] DEBUG: Starting new HTTPS connection (1): hustlers-university.ca:443\n",
      "2024-03-31 20:29:45 [urllib3.connectionpool] DEBUG: https://hustlers-university.ca:443 \"GET /contact/ HTTP/1.1\" 200 None\n",
      "2024-03-31 20:29:45 [scrapy.core.scraper] DEBUG: Scraped from <200 https://hustlers-university.ca/contact/>\n",
      "{'url': 'https://hustlers-university.ca/contact/', 'title': ['Contact - Hustlers University'], 'links': ['https://hustlers-university.ca/contact/#content', 'https://hustlers-university.ca/', 'https://hustlers-university.ca/#results', 'https://hustlers-university.ca/#courses', 'https://hustlers-university.ca/#price', 'https://hustlers-university.ca/sign-up/', 'https://hustlers-university.ca/cdn-cgi/l/email-protection#6d1e181d1d021f192d07020403051859430402', 'https://hustlers-university.ca/about-us/', 'https://hustlers-university.ca/contact/', 'https://hustlers-university.ca/privacy-policy/', 'https://hustlers-university.ca/terms-and-condition/', 'https://hustlers-university.ca/cdn-cgi/l/email-protection#3a494f4a4a55484e7a50555354524f0e145355', 'https://hustlers-university.ca/login/', 'https://hustlers-university.ca/download/'], 'isdocx': False, 'isdoc': False, 'ispdf': False, 'subdomain': 'https://hustlers-university.ca'}\n",
      "2024-03-31 20:29:45 [urllib3.connectionpool] DEBUG: Starting new HTTPS connection (1): hustlers-university.ca:443\n",
      "2024-03-31 20:29:45 [urllib3.connectionpool] DEBUG: https://hustlers-university.ca:443 \"GET /terms-and-condition/ HTTP/1.1\" 200 None\n",
      "2024-03-31 20:29:45 [scrapy.core.scraper] DEBUG: Scraped from <200 https://hustlers-university.ca/terms-and-condition/>\n",
      "{'url': 'https://hustlers-university.ca/terms-and-condition/', 'title': ['Terms and Condition - Hustlers University'], 'links': ['https://hustlers-university.ca/terms-and-condition/#content', 'https://hustlers-university.ca/', 'https://hustlers-university.ca/#results', 'https://hustlers-university.ca/#courses', 'https://hustlers-university.ca/#price', 'https://hustlers-university.ca/sign-up/', 'https://hustlers-university.ca/privacy-policy/', 'https://hustlers-university.ca/about-us/', 'https://hustlers-university.ca/contact/', 'https://hustlers-university.ca/terms-and-condition/', 'https://hustlers-university.ca/cdn-cgi/l/email-protection#2e5d5b5e5e415c5a6e44414740465b1a004741', 'https://hustlers-university.ca/login/', 'https://hustlers-university.ca/download/'], 'isdocx': False, 'isdoc': False, 'ispdf': False, 'subdomain': 'https://hustlers-university.ca'}\n",
      "2024-03-31 20:29:45 [urllib3.connectionpool] DEBUG: Starting new HTTPS connection (1): hustlers-university.ca:443\n",
      "2024-03-31 20:29:46 [urllib3.connectionpool] DEBUG: https://hustlers-university.ca:443 \"GET /login/ HTTP/1.1\" 200 None\n",
      "2024-03-31 20:29:46 [scrapy.core.scraper] DEBUG: Scraped from <200 https://hustlers-university.ca/login/>\n",
      "{'url': 'https://hustlers-university.ca/login/', 'title': ['Login | Log in to Hustlers University'], 'links': ['https://hustlers-university.ca/login/#content', 'https://hustlers-university.ca/', 'https://hustlers-university.ca/#results', 'https://hustlers-university.ca/#courses', 'https://hustlers-university.ca/#price', 'https://hustlers-university.ca/sign-up/', 'https://hustlers-university.ca/login-portal/', 'https://hustlers-university.ca/create-account/', 'https://hustlers-university.ca/about-us/', 'https://hustlers-university.ca/contact/', 'https://hustlers-university.ca/privacy-policy/', 'https://hustlers-university.ca/terms-and-condition/', 'https://hustlers-university.ca/cdn-cgi/l/email-protection#6615131616091412260c090f080e1352480f09', 'https://hustlers-university.ca/login/', 'https://hustlers-university.ca/download/'], 'isdocx': False, 'isdoc': False, 'ispdf': False, 'subdomain': 'https://hustlers-university.ca'}\n"
     ]
    }
   ],
   "source": [
    "crawl.crawl_all_sites()"
   ]
  },
  {
   "cell_type": "code",
   "execution_count": 1,
   "metadata": {},
   "outputs": [],
   "source": [
    "import requests"
   ]
  },
  {
   "cell_type": "code",
   "execution_count": null,
   "metadata": {},
   "outputs": [],
   "source": [
    "response = requests.get('https://dev.vk.com/ru/method/newsfeed.search', )"
   ]
  }
 ],
 "metadata": {
  "kernelspec": {
   "display_name": "crawl",
   "language": "python",
   "name": "python3"
  },
  "language_info": {
   "codemirror_mode": {
    "name": "ipython",
    "version": 3
   },
   "file_extension": ".py",
   "mimetype": "text/x-python",
   "name": "python",
   "nbconvert_exporter": "python",
   "pygments_lexer": "ipython3",
   "version": "3.10.14"
  }
 },
 "nbformat": 4,
 "nbformat_minor": 2
}
