{
  "nbformat": 4,
  "nbformat_minor": 0,
  "metadata": {
    "colab": {
      "provenance": []
    },
    "kernelspec": {
      "name": "python3",
      "display_name": "Python 3"
    },
    "language_info": {
      "name": "python"
    }
  },
  "cells": [
    {
      "cell_type": "code",
      "source": [
        "!pip install python-docx\n",
        "!pip install PyPDF2\n",
        "!pip install Spire.Doc"
      ],
      "metadata": {
        "id": "Fpu1BgnnMF3-"
      },
      "execution_count": null,
      "outputs": []
    },
    {
      "cell_type": "code",
      "execution_count": null,
      "metadata": {
        "id": "hS4hnTvpLf_Z"
      },
      "outputs": [],
      "source": [
        "import parser"
      ]
    },
    {
      "cell_type": "code",
      "source": [
        "parser.get_links_url('https://twitter.com/home')"
      ],
      "metadata": {
        "colab": {
          "base_uri": "https://localhost:8080/"
        },
        "id": "9sdwyQ_uMeR9",
        "outputId": "94fa112c-aaa6-412f-b0e4-ced77afda292"
      },
      "execution_count": null,
      "outputs": [
        {
          "output_type": "stream",
          "name": "stderr",
          "text": [
            "/content/parser.py:29: GuessedAtParserWarning: No parser was explicitly specified, so I'm using the best available HTML parser for this system (\"lxml\"). This usually isn't a problem, but if you run this code on another system, or in a different virtual environment, it may use a different parser and behave differently.\n",
            "\n",
            "The code that caused this warning is on line 29 of the file /content/parser.py. To get rid of this warning, pass the additional argument 'features=\"lxml\"' to the BeautifulSoup constructor.\n",
            "\n",
            "  doc = bs(page)\n"
          ]
        },
        {
          "output_type": "execute_result",
          "data": {
            "text/plain": [
              "['https://help.twitter.com/using-twitter/twitter-supported-browsers',\n",
              " 'https://twitter.com/tos',\n",
              " 'https://twitter.com/privacy',\n",
              " 'https://support.twitter.com/articles/20170514',\n",
              " 'https://legal.twitter.com/imprint.html',\n",
              " 'https://business.twitter.com/en/help/troubleshooting/how-twitter-ads-work.html?ref=web-twc-ao-gbl-adsinfo&utm_source=twc&utm_medium=web&utm_campaign=ao&utm_content=adsinfo']"
            ]
          },
          "metadata": {},
          "execution_count": 5
        }
      ]
    },
    {
      "cell_type": "code",
      "source": [
        "parser.get_text_url('https://twitter.com/home')"
      ],
      "metadata": {
        "colab": {
          "base_uri": "https://localhost:8080/"
        },
        "id": "Loa93QLhOYCz",
        "outputId": "5e3ed5b6-c86c-443e-d132-40ed3a57b8b1"
      },
      "execution_count": null,
      "outputs": [
        {
          "output_type": "stream",
          "name": "stderr",
          "text": [
            "/content/parser.py:36: GuessedAtParserWarning: No parser was explicitly specified, so I'm using the best available HTML parser for this system (\"lxml\"). This usually isn't a problem, but if you run this code on another system, or in a different virtual environment, it may use a different parser and behave differently.\n",
            "\n",
            "The code that caused this warning is on line 36 of the file /content/parser.py. To get rid of this warning, pass the additional argument 'features=\"lxml\"' to the BeautifulSoup constructor.\n",
            "\n",
            "  doc = bs(page)\n"
          ]
        },
        {
          "output_type": "execute_result",
          "data": {
            "text/plain": [
              "<!DOCTYPE html>\n",
              "<html dir=\"ltr\" lang=\"en\">\n",
              "<head>\n",
              "<meta charset=\"utf-8\"/>\n",
              "<meta content=\"width=device-width,initial-scale=1,maximum-scale=1,user-scalable=0,viewport-fit=cover\" name=\"viewport\"/>\n",
              "<style>\n",
              "    body {\n",
              "      -ms-overflow-style: scrollbar;\n",
              "      overflow-y: scroll;\n",
              "      overscroll-behavior-y: none;\n",
              "    }\n",
              "\n",
              "    .errorContainer {\n",
              "      background-color: #FFF;\n",
              "      color: #0F1419;\n",
              "      max-width: 600px;\n",
              "      margin: 0 auto;\n",
              "      padding: 10%;\n",
              "      font-family: Helvetica, sans-serif;\n",
              "      font-size: 16px;\n",
              "    }\n",
              "\n",
              "    .errorButton {\n",
              "      margin: 3em 0;\n",
              "    }\n",
              "\n",
              "    .errorButton a {\n",
              "      background: #1DA1F2;\n",
              "      border-radius: 2.5em;\n",
              "      color: white;\n",
              "      padding: 1em 2em;\n",
              "      text-decoration: none;\n",
              "    }\n",
              "\n",
              "    .errorButton a:hover,\n",
              "    .errorButton a:focus {\n",
              "      background: rgb(26, 145, 218);\n",
              "    }\n",
              "\n",
              "    .errorFooter {\n",
              "      color: #657786;\n",
              "      font-size: 80%;\n",
              "      line-height: 1.5;\n",
              "      padding: 1em 0;\n",
              "    }\n",
              "\n",
              "    .errorFooter a,\n",
              "    .errorFooter a:visited {\n",
              "      color: #657786;\n",
              "      text-decoration: none;\n",
              "      padding-right: 1em;\n",
              "    }\n",
              "\n",
              "    .errorFooter a:hover,\n",
              "    .errorFooter a:active {\n",
              "      text-decoration: underline;\n",
              "    }\n",
              "\n",
              "  </style>\n",
              "</head>\n",
              "<body>\n",
              "<div class=\"errorContainer\">\n",
              "<img alt=\"Twitter\" height=\"38\" src=\"https://abs.twimg.com/errors/logo46x38.png\" srcset=\"https://abs.twimg.com/errors/logo46x38.png 1x, https://abs.twimg.com/errors/logo46x38@2x.png 2x\" width=\"46\"/>\n",
              "<h1>This browser is no longer supported.</h1>\n",
              "<p>\n",
              "      Please switch to a supported browser to continue using twitter.com. You can see a list of supported browsers in our Help Center.\n",
              "    </p>\n",
              "<p class=\"errorButton\"><a href=\"https://help.twitter.com/using-twitter/twitter-supported-browsers\">Help Center</a>\n",
              "</p>\n",
              "<p class=\"errorFooter\">\n",
              "<a href=\"https://twitter.com/tos\">Terms of Service</a>\n",
              "<a href=\"https://twitter.com/privacy\">Privacy Policy</a>\n",
              "<a href=\"https://support.twitter.com/articles/20170514\">Cookie Policy</a>\n",
              "<a href=\"https://legal.twitter.com/imprint.html\">Imprint</a>\n",
              "<a href=\"https://business.twitter.com/en/help/troubleshooting/how-twitter-ads-work.html?ref=web-twc-ao-gbl-adsinfo&amp;utm_source=twc&amp;utm_medium=web&amp;utm_campaign=ao&amp;utm_content=adsinfo\">Ads info</a>\n",
              "      © 2024 X Corp.\n",
              "    </p>\n",
              "</div>\n",
              "</body>\n",
              "</html>"
            ]
          },
          "metadata": {},
          "execution_count": 6
        }
      ]
    },
    {
      "cell_type": "code",
      "source": [
        "parser.get_links_docx('/content/ex.docx')"
      ],
      "metadata": {
        "colab": {
          "base_uri": "https://localhost:8080/"
        },
        "id": "H_JkZ1SfObwm",
        "outputId": "135d7a77-8b0c-4d79-9916-dbdbe78f7fcf"
      },
      "execution_count": null,
      "outputs": [
        {
          "output_type": "execute_result",
          "data": {
            "text/plain": [
              "['https://twitter.com/home',\n",
              " 'https://twitter.com/home',\n",
              " 'https://chat.openai.com/']"
            ]
          },
          "metadata": {},
          "execution_count": 8
        }
      ]
    },
    {
      "cell_type": "code",
      "source": [
        "print(parser.get_text_docx('/content/ex.docx'))"
      ],
      "metadata": {
        "colab": {
          "base_uri": "https://localhost:8080/"
        },
        "id": "V94hjEDKOr2R",
        "outputId": "2c487424-64c4-44d9-cb4b-91103179f2a5"
      },
      "execution_count": null,
      "outputs": [
        {
          "output_type": "stream",
          "name": "stdout",
          "text": [
            "Ijree555g\n",
            "Fgffop\n",
            "4545j\n",
            "4jjsdodo\n",
            "https://chat.openai.com/ \t\n",
            "\n",
            "\n",
            "\n",
            "\n",
            "\n",
            "\n",
            "\n",
            "\n",
            "\n",
            "\n",
            "\n",
            "\n",
            "\n",
            "\n",
            "\n",
            "\n",
            "\n",
            "\n",
            "\n",
            "\n",
            "\n",
            "\n",
            "\n",
            "\n",
            "\n",
            "\n",
            "\n",
            "\n",
            "\n",
            "\n",
            "\n",
            "\n",
            "Ghghgfhfghf\n",
            "https://twitter.com/home\n",
            "https://twitter.com/home\n",
            "\n"
          ]
        }
      ]
    },
    {
      "cell_type": "code",
      "source": [
        "print(parser.get_text_doc('/content/ex.doc'))"
      ],
      "metadata": {
        "colab": {
          "base_uri": "https://localhost:8080/"
        },
        "id": "NaCYWqHiO3vm",
        "outputId": "a04946b8-9d1f-40dd-8ed2-2cb4a1db7c13"
      },
      "execution_count": null,
      "outputs": [
        {
          "output_type": "stream",
          "name": "stdout",
          "text": [
            "Ijree555g\n",
            "Fgffop\n",
            "4545j\n",
            "4jjsdodo\n",
            "https://chat.openai.com/ \t\n",
            "\n",
            "\n",
            "\n",
            "\n",
            "\n",
            "\n",
            "\n",
            "\n",
            "\n",
            "\n",
            "\n",
            "\n",
            "\n",
            "\n",
            "\n",
            "\n",
            "\n",
            "\n",
            "\n",
            "\n",
            "\n",
            "\n",
            "\n",
            "\n",
            "\n",
            "\n",
            "\n",
            "\n",
            "\n",
            "\n",
            "\n",
            "\n",
            "Ghghgfhfghf\n",
            "https://twitter.com/home\n",
            "https://twitter.com/home\n",
            "\n"
          ]
        }
      ]
    },
    {
      "cell_type": "code",
      "source": [
        "parser.get_links_doc('/content/ex.doc')"
      ],
      "metadata": {
        "colab": {
          "base_uri": "https://localhost:8080/"
        },
        "id": "hZChxOhgO9Pf",
        "outputId": "8d244e5d-3b14-4170-ca76-2ad04a7e7261"
      },
      "execution_count": null,
      "outputs": [
        {
          "output_type": "execute_result",
          "data": {
            "text/plain": [
              "['https://chat.openai.com/',\n",
              " 'https://twitter.com/home',\n",
              " 'https://twitter.com/home']"
            ]
          },
          "metadata": {},
          "execution_count": 12
        }
      ]
    },
    {
      "cell_type": "code",
      "source": [
        "print(parser.get_text_pdf('/content/ex.pdf'))"
      ],
      "metadata": {
        "colab": {
          "base_uri": "https://localhost:8080/"
        },
        "id": "adyjLIv-PDPr",
        "outputId": "3403ee5c-5da2-4c07-c67e-8bb3a397d83c"
      },
      "execution_count": null,
      "outputs": [
        {
          "output_type": "stream",
          "name": "stdout",
          "text": [
            "Ijree555g  \n",
            "Fgffop  \n",
            "4545j  \n",
            "4jjsdodo  \n",
            "https://chat.openai.com/    \n",
            " \n",
            " \n",
            " \n",
            " \n",
            " \n",
            " \n",
            " \n",
            " \n",
            " \n",
            " \n",
            " \n",
            " \n",
            " \n",
            " \n",
            " \n",
            " \n",
            " \n",
            " \n",
            " \n",
            " \n",
            " \n",
            " \n",
            " \n",
            " \n",
            " \n",
            " \n",
            " \n",
            "  \n",
            " \n",
            " \n",
            " \n",
            "Ghghgfhfghf  \n",
            "https://twitter.com/home  \n",
            "https://twitter.com/home  \n",
            " \n"
          ]
        }
      ]
    }
  ]
}
